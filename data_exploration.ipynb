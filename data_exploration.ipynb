{
    "nbformat_minor": 1, 
    "cells": [
        {
            "source": "<h1> Assessment #1 </h1>", 
            "cell_type": "markdown", 
            "metadata": {}
        }, 
        {
            "source": "<h3> Download data and get understanding of what is available to work with </h3>", 
            "cell_type": "markdown", 
            "metadata": {}
        }, 
        {
            "source": "import pandas as pd\nimport numpy as np\ndf = pd.read_csv('https://s3-us-west-2.amazonaws.com/pcadsassessment/parking_citations.corrupted.csv', dtype={'Ticket number': str, 'VIN': str})", 
            "cell_type": "code", 
            "metadata": {}, 
            "outputs": [], 
            "execution_count": 1
        }, 
        {
            "source": "df.head()", 
            "cell_type": "code", 
            "metadata": {}, 
            "outputs": [
                {
                    "output_type": "execute_result", 
                    "data": {
                        "text/html": "<div>\n<style scoped>\n    .dataframe tbody tr th:only-of-type {\n        vertical-align: middle;\n    }\n\n    .dataframe tbody tr th {\n        vertical-align: top;\n    }\n\n    .dataframe thead th {\n        text-align: right;\n    }\n</style>\n<table border=\"1\" class=\"dataframe\">\n  <thead>\n    <tr style=\"text-align: right;\">\n      <th></th>\n      <th>Ticket number</th>\n      <th>Issue Date</th>\n      <th>Issue time</th>\n      <th>Meter Id</th>\n      <th>Marked Time</th>\n      <th>RP State Plate</th>\n      <th>Plate Expiry Date</th>\n      <th>VIN</th>\n      <th>Make</th>\n      <th>Body Style</th>\n      <th>Color</th>\n      <th>Location</th>\n      <th>Route</th>\n      <th>Agency</th>\n      <th>Violation code</th>\n      <th>Violation Description</th>\n      <th>Fine amount</th>\n      <th>Latitude</th>\n      <th>Longitude</th>\n    </tr>\n  </thead>\n  <tbody>\n    <tr>\n      <th>0</th>\n      <td>1103341116</td>\n      <td>2015-12-21T00:00:00</td>\n      <td>1251.0</td>\n      <td>NaN</td>\n      <td>NaN</td>\n      <td>CA</td>\n      <td>200304.0</td>\n      <td>NaN</td>\n      <td>NaN</td>\n      <td>PA</td>\n      <td>GY</td>\n      <td>13147 WELBY WAY</td>\n      <td>01521</td>\n      <td>1.0</td>\n      <td>4000A1</td>\n      <td>NO EVIDENCE OF REG</td>\n      <td>50.0</td>\n      <td>99999.0</td>\n      <td>99999.0</td>\n    </tr>\n    <tr>\n      <th>1</th>\n      <td>1103700150</td>\n      <td>2015-12-21T00:00:00</td>\n      <td>1435.0</td>\n      <td>NaN</td>\n      <td>NaN</td>\n      <td>CA</td>\n      <td>201512.0</td>\n      <td>NaN</td>\n      <td>NaN</td>\n      <td>VN</td>\n      <td>WH</td>\n      <td>525 S MAIN ST</td>\n      <td>1C51</td>\n      <td>1.0</td>\n      <td>4000A1</td>\n      <td>NO EVIDENCE OF REG</td>\n      <td>50.0</td>\n      <td>99999.0</td>\n      <td>99999.0</td>\n    </tr>\n    <tr>\n      <th>2</th>\n      <td>1104803000</td>\n      <td>2015-12-21T00:00:00</td>\n      <td>2055.0</td>\n      <td>NaN</td>\n      <td>NaN</td>\n      <td>CA</td>\n      <td>201503.0</td>\n      <td>NaN</td>\n      <td>NaN</td>\n      <td>PA</td>\n      <td>BK</td>\n      <td>200 WORLD WAY</td>\n      <td>2R2</td>\n      <td>2.0</td>\n      <td>8939</td>\n      <td>WHITE CURB</td>\n      <td>58.0</td>\n      <td>6439997.9</td>\n      <td>1802686.4</td>\n    </tr>\n    <tr>\n      <th>3</th>\n      <td>1104820732</td>\n      <td>2015-12-26T00:00:00</td>\n      <td>1515.0</td>\n      <td>NaN</td>\n      <td>NaN</td>\n      <td>CA</td>\n      <td>NaN</td>\n      <td>NaN</td>\n      <td>NaN</td>\n      <td>PA</td>\n      <td>WH</td>\n      <td>100 WORLD WAY</td>\n      <td>2F11</td>\n      <td>2.0</td>\n      <td>000</td>\n      <td>17104h</td>\n      <td>NaN</td>\n      <td>6440041.1</td>\n      <td>1802686.2</td>\n    </tr>\n    <tr>\n      <th>4</th>\n      <td>1105461453</td>\n      <td>2015-09-15T00:00:00</td>\n      <td>115.0</td>\n      <td>NaN</td>\n      <td>NaN</td>\n      <td>CA</td>\n      <td>200316.0</td>\n      <td>NaN</td>\n      <td>CHEV</td>\n      <td>PA</td>\n      <td>BK</td>\n      <td>GEORGIA ST/OLYMPIC</td>\n      <td>1FB70</td>\n      <td>1.0</td>\n      <td>8069A</td>\n      <td>NO STOPPING/STANDING</td>\n      <td>93.0</td>\n      <td>99999.0</td>\n      <td>99999.0</td>\n    </tr>\n  </tbody>\n</table>\n</div>", 
                        "text/plain": "  Ticket number           Issue Date  Issue time Meter Id  Marked Time  \\\n0    1103341116  2015-12-21T00:00:00      1251.0      NaN          NaN   \n1    1103700150  2015-12-21T00:00:00      1435.0      NaN          NaN   \n2    1104803000  2015-12-21T00:00:00      2055.0      NaN          NaN   \n3    1104820732  2015-12-26T00:00:00      1515.0      NaN          NaN   \n4    1105461453  2015-09-15T00:00:00       115.0      NaN          NaN   \n\n  RP State Plate  Plate Expiry Date  VIN  Make Body Style Color  \\\n0             CA           200304.0  NaN   NaN         PA    GY   \n1             CA           201512.0  NaN   NaN         VN    WH   \n2             CA           201503.0  NaN   NaN         PA    BK   \n3             CA                NaN  NaN   NaN         PA    WH   \n4             CA           200316.0  NaN  CHEV         PA    BK   \n\n             Location  Route  Agency Violation code Violation Description  \\\n0     13147 WELBY WAY  01521     1.0         4000A1    NO EVIDENCE OF REG   \n1       525 S MAIN ST   1C51     1.0         4000A1    NO EVIDENCE OF REG   \n2       200 WORLD WAY    2R2     2.0           8939            WHITE CURB   \n3       100 WORLD WAY   2F11     2.0            000                17104h   \n4  GEORGIA ST/OLYMPIC  1FB70     1.0          8069A  NO STOPPING/STANDING   \n\n   Fine amount   Latitude  Longitude  \n0         50.0    99999.0    99999.0  \n1         50.0    99999.0    99999.0  \n2         58.0  6439997.9  1802686.4  \n3          NaN  6440041.1  1802686.2  \n4         93.0    99999.0    99999.0  "
                    }, 
                    "execution_count": 2, 
                    "metadata": {}
                }
            ], 
            "execution_count": 2
        }, 
        {
            "source": "df.shape", 
            "cell_type": "code", 
            "metadata": {}, 
            "outputs": [
                {
                    "output_type": "execute_result", 
                    "data": {
                        "text/plain": "(8726014, 19)"
                    }, 
                    "execution_count": 3, 
                    "metadata": {}
                }
            ], 
            "execution_count": 3
        }, 
        {
            "source": "df.describe()", 
            "cell_type": "code", 
            "metadata": {}, 
            "outputs": [
                {
                    "output_type": "execute_result", 
                    "data": {
                        "text/html": "<div>\n<style scoped>\n    .dataframe tbody tr th:only-of-type {\n        vertical-align: middle;\n    }\n\n    .dataframe tbody tr th {\n        vertical-align: top;\n    }\n\n    .dataframe thead th {\n        text-align: right;\n    }\n</style>\n<table border=\"1\" class=\"dataframe\">\n  <thead>\n    <tr style=\"text-align: right;\">\n      <th></th>\n      <th>Issue time</th>\n      <th>Marked Time</th>\n      <th>Plate Expiry Date</th>\n      <th>Agency</th>\n      <th>Fine amount</th>\n      <th>Latitude</th>\n      <th>Longitude</th>\n    </tr>\n  </thead>\n  <tbody>\n    <tr>\n      <th>count</th>\n      <td>8.723431e+06</td>\n      <td>290599.000000</td>\n      <td>7.931187e+06</td>\n      <td>8.725469e+06</td>\n      <td>8.719507e+06</td>\n      <td>8.726011e+06</td>\n      <td>8.726011e+06</td>\n    </tr>\n    <tr>\n      <th>mean</th>\n      <td>1.203930e+03</td>\n      <td>1055.399286</td>\n      <td>1.867823e+05</td>\n      <td>5.200932e+01</td>\n      <td>7.011293e+01</td>\n      <td>5.501648e+06</td>\n      <td>1.586792e+06</td>\n    </tr>\n    <tr>\n      <th>std</th>\n      <td>4.722413e+02</td>\n      <td>227.596205</td>\n      <td>5.276278e+04</td>\n      <td>9.301675e+00</td>\n      <td>3.211512e+01</td>\n      <td>3.004177e+06</td>\n      <td>2.065458e+06</td>\n    </tr>\n    <tr>\n      <th>min</th>\n      <td>0.000000e+00</td>\n      <td>1.000000</td>\n      <td>1.000000e+00</td>\n      <td>1.000000e+00</td>\n      <td>1.000000e+01</td>\n      <td>9.999900e+04</td>\n      <td>9.999900e+04</td>\n    </tr>\n    <tr>\n      <th>25%</th>\n      <td>9.120000e+02</td>\n      <td>910.000000</td>\n      <td>2.016010e+05</td>\n      <td>5.100000e+01</td>\n      <td>6.300000e+01</td>\n      <td>6.421512e+06</td>\n      <td>1.821558e+06</td>\n    </tr>\n    <tr>\n      <th>50%</th>\n      <td>1.156000e+03</td>\n      <td>1035.000000</td>\n      <td>2.017020e+05</td>\n      <td>5.400000e+01</td>\n      <td>6.800000e+01</td>\n      <td>6.451540e+06</td>\n      <td>1.841987e+06</td>\n    </tr>\n    <tr>\n      <th>75%</th>\n      <td>1.511000e+03</td>\n      <td>1200.000000</td>\n      <td>2.018030e+05</td>\n      <td>5.500000e+01</td>\n      <td>7.300000e+01</td>\n      <td>6.475013e+06</td>\n      <td>1.858207e+06</td>\n    </tr>\n    <tr>\n      <th>max</th>\n      <td>2.359000e+03</td>\n      <td>2400.000000</td>\n      <td>8.201080e+05</td>\n      <td>9.700000e+01</td>\n      <td>5.050000e+02</td>\n      <td>4.042322e+09</td>\n      <td>4.042322e+09</td>\n    </tr>\n  </tbody>\n</table>\n</div>", 
                        "text/plain": "         Issue time    Marked Time  Plate Expiry Date        Agency  \\\ncount  8.723431e+06  290599.000000       7.931187e+06  8.725469e+06   \nmean   1.203930e+03    1055.399286       1.867823e+05  5.200932e+01   \nstd    4.722413e+02     227.596205       5.276278e+04  9.301675e+00   \nmin    0.000000e+00       1.000000       1.000000e+00  1.000000e+00   \n25%    9.120000e+02     910.000000       2.016010e+05  5.100000e+01   \n50%    1.156000e+03    1035.000000       2.017020e+05  5.400000e+01   \n75%    1.511000e+03    1200.000000       2.018030e+05  5.500000e+01   \nmax    2.359000e+03    2400.000000       8.201080e+05  9.700000e+01   \n\n        Fine amount      Latitude     Longitude  \ncount  8.719507e+06  8.726011e+06  8.726011e+06  \nmean   7.011293e+01  5.501648e+06  1.586792e+06  \nstd    3.211512e+01  3.004177e+06  2.065458e+06  \nmin    1.000000e+01  9.999900e+04  9.999900e+04  \n25%    6.300000e+01  6.421512e+06  1.821558e+06  \n50%    6.800000e+01  6.451540e+06  1.841987e+06  \n75%    7.300000e+01  6.475013e+06  1.858207e+06  \nmax    5.050000e+02  4.042322e+09  4.042322e+09  "
                    }, 
                    "execution_count": 4, 
                    "metadata": {}
                }
            ], 
            "execution_count": 4
        }, 
        {
            "source": "<h3> Select portion of data with known vehicle makes </h3>", 
            "cell_type": "markdown", 
            "metadata": {}
        }, 
        {
            "source": "make_df = df[pd.notnull(df['Make'])].reset_index(drop=True)", 
            "cell_type": "code", 
            "metadata": {}, 
            "outputs": [], 
            "execution_count": 4
        }, 
        {
            "source": "make_df.head()", 
            "cell_type": "code", 
            "metadata": {}, 
            "outputs": [
                {
                    "output_type": "execute_result", 
                    "data": {
                        "text/html": "<div>\n<style scoped>\n    .dataframe tbody tr th:only-of-type {\n        vertical-align: middle;\n    }\n\n    .dataframe tbody tr th {\n        vertical-align: top;\n    }\n\n    .dataframe thead th {\n        text-align: right;\n    }\n</style>\n<table border=\"1\" class=\"dataframe\">\n  <thead>\n    <tr style=\"text-align: right;\">\n      <th></th>\n      <th>Ticket number</th>\n      <th>Issue Date</th>\n      <th>Issue time</th>\n      <th>Meter Id</th>\n      <th>Marked Time</th>\n      <th>RP State Plate</th>\n      <th>Plate Expiry Date</th>\n      <th>VIN</th>\n      <th>Make</th>\n      <th>Body Style</th>\n      <th>Color</th>\n      <th>Location</th>\n      <th>Route</th>\n      <th>Agency</th>\n      <th>Violation code</th>\n      <th>Violation Description</th>\n      <th>Fine amount</th>\n      <th>Latitude</th>\n      <th>Longitude</th>\n    </tr>\n  </thead>\n  <tbody>\n    <tr>\n      <th>0</th>\n      <td>1105461453</td>\n      <td>2015-09-15T00:00:00</td>\n      <td>115.0</td>\n      <td>NaN</td>\n      <td>NaN</td>\n      <td>CA</td>\n      <td>200316.0</td>\n      <td>NaN</td>\n      <td>CHEV</td>\n      <td>PA</td>\n      <td>BK</td>\n      <td>GEORGIA ST/OLYMPIC</td>\n      <td>1FB70</td>\n      <td>1.0</td>\n      <td>8069A</td>\n      <td>NO STOPPING/STANDING</td>\n      <td>93.0</td>\n      <td>99999.0</td>\n      <td>99999.0</td>\n    </tr>\n    <tr>\n      <th>1</th>\n      <td>1106500452</td>\n      <td>2015-12-17T00:00:00</td>\n      <td>1710.0</td>\n      <td>NaN</td>\n      <td>NaN</td>\n      <td>CA</td>\n      <td>201605.0</td>\n      <td>NaN</td>\n      <td>MAZD</td>\n      <td>PA</td>\n      <td>BL</td>\n      <td>SUNSET/ALVARADO</td>\n      <td>00217</td>\n      <td>1.0</td>\n      <td>8070</td>\n      <td>PARK IN GRID LOCK ZN</td>\n      <td>163.0</td>\n      <td>99999.0</td>\n      <td>99999.0</td>\n    </tr>\n    <tr>\n      <th>2</th>\n      <td>1106506424</td>\n      <td>2015-12-22T00:00:00</td>\n      <td>1100.0</td>\n      <td>NaN</td>\n      <td>NaN</td>\n      <td>CA</td>\n      <td>201511.0</td>\n      <td>NaN</td>\n      <td>FORD</td>\n      <td>TR</td>\n      <td>WH</td>\n      <td>1159 HUNTLEY DR</td>\n      <td>2A75</td>\n      <td>1.0</td>\n      <td>8069AA</td>\n      <td>NO STOP/STAND AM</td>\n      <td>93.0</td>\n      <td>99999.0</td>\n      <td>99999.0</td>\n    </tr>\n    <tr>\n      <th>3</th>\n      <td>1106506435</td>\n      <td>2015-12-22T00:00:00</td>\n      <td>1105.0</td>\n      <td>NaN</td>\n      <td>NaN</td>\n      <td>CA</td>\n      <td>201701.0</td>\n      <td>NaN</td>\n      <td>CHRY</td>\n      <td>PA</td>\n      <td>GO</td>\n      <td>1159 HUNTLEY DR</td>\n      <td>2A75</td>\n      <td>1.0</td>\n      <td>8069AA</td>\n      <td>NO STOP/STAND AM</td>\n      <td>93.0</td>\n      <td>99999.0</td>\n      <td>99999.0</td>\n    </tr>\n    <tr>\n      <th>4</th>\n      <td>1107179581</td>\n      <td>2015-12-27T00:00:00</td>\n      <td>1055.0</td>\n      <td>NaN</td>\n      <td>NaN</td>\n      <td>CA</td>\n      <td>201605.0</td>\n      <td>NaN</td>\n      <td>TOYO</td>\n      <td>PA</td>\n      <td>BK</td>\n      <td>3100 N HOLLYRIDGE DR</td>\n      <td>NaN</td>\n      <td>54.0</td>\n      <td>8058L</td>\n      <td>PREF PARKING</td>\n      <td>68.0</td>\n      <td>99999.0</td>\n      <td>99999.0</td>\n    </tr>\n  </tbody>\n</table>\n</div>", 
                        "text/plain": "  Ticket number           Issue Date  Issue time Meter Id  Marked Time  \\\n0    1105461453  2015-09-15T00:00:00       115.0      NaN          NaN   \n1    1106500452  2015-12-17T00:00:00      1710.0      NaN          NaN   \n2    1106506424  2015-12-22T00:00:00      1100.0      NaN          NaN   \n3    1106506435  2015-12-22T00:00:00      1105.0      NaN          NaN   \n4    1107179581  2015-12-27T00:00:00      1055.0      NaN          NaN   \n\n  RP State Plate  Plate Expiry Date  VIN  Make Body Style Color  \\\n0             CA           200316.0  NaN  CHEV         PA    BK   \n1             CA           201605.0  NaN  MAZD         PA    BL   \n2             CA           201511.0  NaN  FORD         TR    WH   \n3             CA           201701.0  NaN  CHRY         PA    GO   \n4             CA           201605.0  NaN  TOYO         PA    BK   \n\n               Location  Route  Agency Violation code Violation Description  \\\n0    GEORGIA ST/OLYMPIC  1FB70     1.0          8069A  NO STOPPING/STANDING   \n1       SUNSET/ALVARADO  00217     1.0           8070  PARK IN GRID LOCK ZN   \n2       1159 HUNTLEY DR   2A75     1.0         8069AA      NO STOP/STAND AM   \n3       1159 HUNTLEY DR   2A75     1.0         8069AA      NO STOP/STAND AM   \n4  3100 N HOLLYRIDGE DR    NaN    54.0          8058L          PREF PARKING   \n\n   Fine amount  Latitude  Longitude  \n0         93.0   99999.0    99999.0  \n1        163.0   99999.0    99999.0  \n2         93.0   99999.0    99999.0  \n3         93.0   99999.0    99999.0  \n4         68.0   99999.0    99999.0  "
                    }, 
                    "execution_count": 5, 
                    "metadata": {}
                }
            ], 
            "execution_count": 5
        }, 
        {
            "source": "<h3> Find top 25 makes and create column specifying in top 25 or outside top 25 </h3>\n1 means in top 25, 0 means not in top 25", 
            "cell_type": "markdown", 
            "metadata": {}
        }, 
        {
            "source": "top25 = make_df['Make'].value_counts().head(25)", 
            "cell_type": "code", 
            "metadata": {}, 
            "outputs": [], 
            "execution_count": 6
        }, 
        {
            "source": "make_df['Make'].value_counts()", 
            "cell_type": "code", 
            "metadata": {}, 
            "outputs": [
                {
                    "output_type": "execute_result", 
                    "data": {
                        "text/plain": "TOYT     721411\nHOND     491961\nFORD     382695\nNISS     311324\nCHEV     297076\nBMW      199221\nMERZ     177307\nVOLK     149501\nHYUN     133864\nDODG     127764\nLEXS     124508\nKIA      101746\nJEEP     100909\nAUDI      84229\nMAZD      79853\nOTHR      72411\nGMC       62391\nCHRY      57317\nINFI      56809\nACUR      52703\nSUBA      46898\nVOLV      42330\nTOYO      40064\nMITS      37842\nCADI      34080\nMNNI      30885\nLNDR      23351\nPORS      21926\nFRHT      20976\nBUIC      20726\n          ...  \nVGMD          1\nAMCE          1\nSABA          1\nDOOH          1\nJMBO          1\nTMEC          1\nWNEG          1\nBUICK         1\nGFLC          1\nGLAU          1\nMESC          1\nMAUN          1\nGARB          1\nCOSC          1\nCOLO          1\nCOME          1\nZIEN          1\nTIUS          1\nLASB          1\nBWM           1\nCRSL          1\nMLAR          1\nSFAR          1\nMNW           1\nMORO          1\nMNZ           1\nSIZU          1\nTRQU          1\nLNQT          1\nHERI          1\nName: Make, Length: 1477, dtype: int64"
                    }, 
                    "execution_count": 7, 
                    "metadata": {}
                }
            ], 
            "execution_count": 7
        }, 
        {
            "source": "make_df.head()", 
            "cell_type": "code", 
            "metadata": {}, 
            "outputs": [
                {
                    "output_type": "execute_result", 
                    "data": {
                        "text/html": "<div>\n<style scoped>\n    .dataframe tbody tr th:only-of-type {\n        vertical-align: middle;\n    }\n\n    .dataframe tbody tr th {\n        vertical-align: top;\n    }\n\n    .dataframe thead th {\n        text-align: right;\n    }\n</style>\n<table border=\"1\" class=\"dataframe\">\n  <thead>\n    <tr style=\"text-align: right;\">\n      <th></th>\n      <th>Ticket number</th>\n      <th>Issue Date</th>\n      <th>Issue time</th>\n      <th>Meter Id</th>\n      <th>Marked Time</th>\n      <th>RP State Plate</th>\n      <th>Plate Expiry Date</th>\n      <th>VIN</th>\n      <th>Make</th>\n      <th>Body Style</th>\n      <th>Color</th>\n      <th>Location</th>\n      <th>Route</th>\n      <th>Agency</th>\n      <th>Violation code</th>\n      <th>Violation Description</th>\n      <th>Fine amount</th>\n      <th>Latitude</th>\n      <th>Longitude</th>\n      <th>top25</th>\n    </tr>\n  </thead>\n  <tbody>\n    <tr>\n      <th>0</th>\n      <td>1105461453</td>\n      <td>2015-09-15T00:00:00</td>\n      <td>115.0</td>\n      <td>NaN</td>\n      <td>NaN</td>\n      <td>CA</td>\n      <td>200316.0</td>\n      <td>NaN</td>\n      <td>CHEV</td>\n      <td>PA</td>\n      <td>BK</td>\n      <td>GEORGIA ST/OLYMPIC</td>\n      <td>1FB70</td>\n      <td>1.0</td>\n      <td>8069A</td>\n      <td>NO STOPPING/STANDING</td>\n      <td>93.0</td>\n      <td>99999.0</td>\n      <td>99999.0</td>\n      <td>1</td>\n    </tr>\n    <tr>\n      <th>1</th>\n      <td>1106500452</td>\n      <td>2015-12-17T00:00:00</td>\n      <td>1710.0</td>\n      <td>NaN</td>\n      <td>NaN</td>\n      <td>CA</td>\n      <td>201605.0</td>\n      <td>NaN</td>\n      <td>MAZD</td>\n      <td>PA</td>\n      <td>BL</td>\n      <td>SUNSET/ALVARADO</td>\n      <td>00217</td>\n      <td>1.0</td>\n      <td>8070</td>\n      <td>PARK IN GRID LOCK ZN</td>\n      <td>163.0</td>\n      <td>99999.0</td>\n      <td>99999.0</td>\n      <td>1</td>\n    </tr>\n    <tr>\n      <th>2</th>\n      <td>1106506424</td>\n      <td>2015-12-22T00:00:00</td>\n      <td>1100.0</td>\n      <td>NaN</td>\n      <td>NaN</td>\n      <td>CA</td>\n      <td>201511.0</td>\n      <td>NaN</td>\n      <td>FORD</td>\n      <td>TR</td>\n      <td>WH</td>\n      <td>1159 HUNTLEY DR</td>\n      <td>2A75</td>\n      <td>1.0</td>\n      <td>8069AA</td>\n      <td>NO STOP/STAND AM</td>\n      <td>93.0</td>\n      <td>99999.0</td>\n      <td>99999.0</td>\n      <td>1</td>\n    </tr>\n    <tr>\n      <th>3</th>\n      <td>1106506435</td>\n      <td>2015-12-22T00:00:00</td>\n      <td>1105.0</td>\n      <td>NaN</td>\n      <td>NaN</td>\n      <td>CA</td>\n      <td>201701.0</td>\n      <td>NaN</td>\n      <td>CHRY</td>\n      <td>PA</td>\n      <td>GO</td>\n      <td>1159 HUNTLEY DR</td>\n      <td>2A75</td>\n      <td>1.0</td>\n      <td>8069AA</td>\n      <td>NO STOP/STAND AM</td>\n      <td>93.0</td>\n      <td>99999.0</td>\n      <td>99999.0</td>\n      <td>1</td>\n    </tr>\n    <tr>\n      <th>4</th>\n      <td>1107179581</td>\n      <td>2015-12-27T00:00:00</td>\n      <td>1055.0</td>\n      <td>NaN</td>\n      <td>NaN</td>\n      <td>CA</td>\n      <td>201605.0</td>\n      <td>NaN</td>\n      <td>TOYO</td>\n      <td>PA</td>\n      <td>BK</td>\n      <td>3100 N HOLLYRIDGE DR</td>\n      <td>NaN</td>\n      <td>54.0</td>\n      <td>8058L</td>\n      <td>PREF PARKING</td>\n      <td>68.0</td>\n      <td>99999.0</td>\n      <td>99999.0</td>\n      <td>1</td>\n    </tr>\n  </tbody>\n</table>\n</div>", 
                        "text/plain": "  Ticket number           Issue Date  Issue time Meter Id  Marked Time  \\\n0    1105461453  2015-09-15T00:00:00       115.0      NaN          NaN   \n1    1106500452  2015-12-17T00:00:00      1710.0      NaN          NaN   \n2    1106506424  2015-12-22T00:00:00      1100.0      NaN          NaN   \n3    1106506435  2015-12-22T00:00:00      1105.0      NaN          NaN   \n4    1107179581  2015-12-27T00:00:00      1055.0      NaN          NaN   \n\n  RP State Plate  Plate Expiry Date  VIN  Make Body Style Color  \\\n0             CA           200316.0  NaN  CHEV         PA    BK   \n1             CA           201605.0  NaN  MAZD         PA    BL   \n2             CA           201511.0  NaN  FORD         TR    WH   \n3             CA           201701.0  NaN  CHRY         PA    GO   \n4             CA           201605.0  NaN  TOYO         PA    BK   \n\n               Location  Route  Agency Violation code Violation Description  \\\n0    GEORGIA ST/OLYMPIC  1FB70     1.0          8069A  NO STOPPING/STANDING   \n1       SUNSET/ALVARADO  00217     1.0           8070  PARK IN GRID LOCK ZN   \n2       1159 HUNTLEY DR   2A75     1.0         8069AA      NO STOP/STAND AM   \n3       1159 HUNTLEY DR   2A75     1.0         8069AA      NO STOP/STAND AM   \n4  3100 N HOLLYRIDGE DR    NaN    54.0          8058L          PREF PARKING   \n\n   Fine amount  Latitude  Longitude  top25  \n0         93.0   99999.0    99999.0      1  \n1        163.0   99999.0    99999.0      1  \n2         93.0   99999.0    99999.0      1  \n3         93.0   99999.0    99999.0      1  \n4         68.0   99999.0    99999.0      1  "
                    }, 
                    "execution_count": 11, 
                    "metadata": {}
                }
            ], 
            "execution_count": 11
        }, 
        {
            "source": "make_df['top25'] = 0", 
            "cell_type": "code", 
            "metadata": {}, 
            "outputs": [], 
            "execution_count": 8
        }, 
        {
            "source": "make_df['top25'].loc[make_df['Make'].isin(list(top25.index))] = 1", 
            "cell_type": "code", 
            "metadata": {}, 
            "outputs": [
                {
                    "output_type": "stream", 
                    "name": "stderr", 
                    "text": "/opt/conda/envs/Python36/lib/python3.6/site-packages/pandas/core/indexing.py:190: SettingWithCopyWarning: \nA value is trying to be set on a copy of a slice from a DataFrame\n\nSee the caveats in the documentation: http://pandas.pydata.org/pandas-docs/stable/indexing.html#indexing-view-versus-copy\n  self._setitem_with_indexer(indexer, value)\n"
                }
            ], 
            "execution_count": 10
        }, 
        {
            "source": "make_df[make_df['top25']==1].shape", 
            "cell_type": "code", 
            "metadata": {}, 
            "outputs": [
                {
                    "output_type": "execute_result", 
                    "data": {
                        "text/plain": "(3986214, 20)"
                    }, 
                    "execution_count": 12, 
                    "metadata": {}
                }
            ], 
            "execution_count": 12
        }, 
        {
            "source": "<h3> Choose data to train model with and clean data</h3>", 
            "cell_type": "markdown", 
            "metadata": {}
        }, 
        {
            "source": "train_set = make_df[['Issue time', 'Plate Expiry Date', 'Agency', 'Fine amount', 'Latitude', 'Longitude', 'top25']]", 
            "cell_type": "code", 
            "metadata": {}, 
            "outputs": [], 
            "execution_count": 13
        }, 
        {
            "source": "train_set.shape", 
            "cell_type": "code", 
            "metadata": {
                "scrolled": true
            }, 
            "outputs": [
                {
                    "output_type": "execute_result", 
                    "data": {
                        "text/plain": "(4357544, 7)"
                    }, 
                    "execution_count": 14, 
                    "metadata": {}
                }
            ], 
            "execution_count": 14
        }, 
        {
            "source": "train_set.dropna(inplace=True)", 
            "cell_type": "code", 
            "metadata": {}, 
            "outputs": [
                {
                    "output_type": "stream", 
                    "name": "stderr", 
                    "text": "/opt/conda/envs/Python36/lib/python3.6/site-packages/ipykernel/__main__.py:1: SettingWithCopyWarning: \nA value is trying to be set on a copy of a slice from a DataFrame\n\nSee the caveats in the documentation: http://pandas.pydata.org/pandas-docs/stable/indexing.html#indexing-view-versus-copy\n  if __name__ == '__main__':\n"
                }
            ], 
            "execution_count": 15
        }, 
        {
            "source": "train_set.shape", 
            "cell_type": "code", 
            "metadata": {}, 
            "outputs": [
                {
                    "output_type": "execute_result", 
                    "data": {
                        "text/plain": "(3957359, 7)"
                    }, 
                    "execution_count": 16, 
                    "metadata": {}
                }
            ], 
            "execution_count": 16
        }, 
        {
            "source": "train_set.head()", 
            "cell_type": "code", 
            "metadata": {}, 
            "outputs": [
                {
                    "output_type": "execute_result", 
                    "data": {
                        "text/html": "<div>\n<style scoped>\n    .dataframe tbody tr th:only-of-type {\n        vertical-align: middle;\n    }\n\n    .dataframe tbody tr th {\n        vertical-align: top;\n    }\n\n    .dataframe thead th {\n        text-align: right;\n    }\n</style>\n<table border=\"1\" class=\"dataframe\">\n  <thead>\n    <tr style=\"text-align: right;\">\n      <th></th>\n      <th>Issue time</th>\n      <th>Plate Expiry Date</th>\n      <th>Agency</th>\n      <th>Fine amount</th>\n      <th>Latitude</th>\n      <th>Longitude</th>\n      <th>top25</th>\n    </tr>\n  </thead>\n  <tbody>\n    <tr>\n      <th>0</th>\n      <td>115.0</td>\n      <td>200316.0</td>\n      <td>1.0</td>\n      <td>93.0</td>\n      <td>99999.0</td>\n      <td>99999.0</td>\n      <td>1</td>\n    </tr>\n    <tr>\n      <th>1</th>\n      <td>1710.0</td>\n      <td>201605.0</td>\n      <td>1.0</td>\n      <td>163.0</td>\n      <td>99999.0</td>\n      <td>99999.0</td>\n      <td>1</td>\n    </tr>\n    <tr>\n      <th>2</th>\n      <td>1100.0</td>\n      <td>201511.0</td>\n      <td>1.0</td>\n      <td>93.0</td>\n      <td>99999.0</td>\n      <td>99999.0</td>\n      <td>1</td>\n    </tr>\n    <tr>\n      <th>3</th>\n      <td>1105.0</td>\n      <td>201701.0</td>\n      <td>1.0</td>\n      <td>93.0</td>\n      <td>99999.0</td>\n      <td>99999.0</td>\n      <td>1</td>\n    </tr>\n    <tr>\n      <th>4</th>\n      <td>1055.0</td>\n      <td>201605.0</td>\n      <td>54.0</td>\n      <td>68.0</td>\n      <td>99999.0</td>\n      <td>99999.0</td>\n      <td>1</td>\n    </tr>\n  </tbody>\n</table>\n</div>", 
                        "text/plain": "   Issue time  Plate Expiry Date  Agency  Fine amount  Latitude  Longitude  \\\n0       115.0           200316.0     1.0         93.0   99999.0    99999.0   \n1      1710.0           201605.0     1.0        163.0   99999.0    99999.0   \n2      1100.0           201511.0     1.0         93.0   99999.0    99999.0   \n3      1105.0           201701.0     1.0         93.0   99999.0    99999.0   \n4      1055.0           201605.0    54.0         68.0   99999.0    99999.0   \n\n   top25  \n0      1  \n1      1  \n2      1  \n3      1  \n4      1  "
                    }, 
                    "execution_count": 17, 
                    "metadata": {}
                }
            ], 
            "execution_count": 17
        }, 
        {
            "source": "<h3> Scale data and train logistic regression model</h3>\nLogistic regression was chosen because it easily returns the probability of the vehicle being in the top25", 
            "cell_type": "markdown", 
            "metadata": {}
        }, 
        {
            "source": "xtrain = np.asarray(train_set[['Issue time', 'Plate Expiry Date', 'Agency', 'Fine amount', 'Latitude', 'Longitude']])", 
            "cell_type": "code", 
            "metadata": {}, 
            "outputs": [], 
            "execution_count": 18
        }, 
        {
            "source": "ytrain = np.asarray(train_set['top25'])", 
            "cell_type": "code", 
            "metadata": {}, 
            "outputs": [], 
            "execution_count": 19
        }, 
        {
            "source": "ytrain[0:5]", 
            "cell_type": "code", 
            "metadata": {}, 
            "outputs": [
                {
                    "output_type": "execute_result", 
                    "data": {
                        "text/plain": "array([1, 1, 1, 1, 1])"
                    }, 
                    "execution_count": 20, 
                    "metadata": {}
                }
            ], 
            "execution_count": 20
        }, 
        {
            "source": "from sklearn import preprocessing\nscaler = preprocessing.StandardScaler().fit(xtrain)\nxtrain =  scaler.transform(xtrain)\nxtrain[0:5]", 
            "cell_type": "code", 
            "metadata": {}, 
            "outputs": [
                {
                    "output_type": "execute_result", 
                    "data": {
                        "text/plain": "array([[-2.30637922,  0.2566364 , -5.45105791,  0.71782452, -1.74287773,\n        -0.67727352],\n       [ 1.07142598,  0.28105754, -5.45105791,  2.89550874, -1.74287773,\n        -0.67727352],\n       [-0.2203992 ,  0.27927663, -5.45105791,  0.71782452, -1.74287773,\n        -0.67727352],\n       [-0.20981047,  0.28287634, -5.45105791,  0.71782452, -1.74287773,\n        -0.67727352],\n       [-0.31569778,  0.28105754,  0.21569683, -0.05991984, -1.74287773,\n        -0.67727352]])"
                    }, 
                    "execution_count": 21, 
                    "metadata": {}
                }
            ], 
            "execution_count": 21
        }, 
        {
            "source": "from sklearn.linear_model import LogisticRegression\nLR = LogisticRegression(C=0.01, solver='liblinear').fit(xtrain, ytrain)", 
            "cell_type": "code", 
            "metadata": {}, 
            "outputs": [], 
            "execution_count": 22
        }, 
        {
            "source": "<h3> Test model with corrupted data from original file </h3>", 
            "cell_type": "markdown", 
            "metadata": {}
        }, 
        {
            "source": "train_set[train_set['top25']==1].shape", 
            "cell_type": "code", 
            "metadata": {}, 
            "outputs": [
                {
                    "output_type": "execute_result", 
                    "data": {
                        "text/plain": "(3635102, 7)"
                    }, 
                    "execution_count": 23, 
                    "metadata": {}
                }
            ], 
            "execution_count": 23
        }, 
        {
            "source": "df.shape", 
            "cell_type": "code", 
            "metadata": {}, 
            "outputs": [
                {
                    "output_type": "execute_result", 
                    "data": {
                        "text/plain": "(8726014, 19)"
                    }, 
                    "execution_count": 24, 
                    "metadata": {}
                }
            ], 
            "execution_count": 24
        }, 
        {
            "source": "#test rows\ntest_set = df[~pd.notnull(df['Make'])]", 
            "cell_type": "code", 
            "metadata": {}, 
            "outputs": [], 
            "execution_count": 25
        }, 
        {
            "source": "test_set.head()", 
            "cell_type": "code", 
            "metadata": {}, 
            "outputs": [
                {
                    "output_type": "execute_result", 
                    "data": {
                        "text/html": "<div>\n<style scoped>\n    .dataframe tbody tr th:only-of-type {\n        vertical-align: middle;\n    }\n\n    .dataframe tbody tr th {\n        vertical-align: top;\n    }\n\n    .dataframe thead th {\n        text-align: right;\n    }\n</style>\n<table border=\"1\" class=\"dataframe\">\n  <thead>\n    <tr style=\"text-align: right;\">\n      <th></th>\n      <th>Ticket number</th>\n      <th>Issue Date</th>\n      <th>Issue time</th>\n      <th>Meter Id</th>\n      <th>Marked Time</th>\n      <th>RP State Plate</th>\n      <th>Plate Expiry Date</th>\n      <th>VIN</th>\n      <th>Make</th>\n      <th>Body Style</th>\n      <th>Color</th>\n      <th>Location</th>\n      <th>Route</th>\n      <th>Agency</th>\n      <th>Violation code</th>\n      <th>Violation Description</th>\n      <th>Fine amount</th>\n      <th>Latitude</th>\n      <th>Longitude</th>\n    </tr>\n  </thead>\n  <tbody>\n    <tr>\n      <th>0</th>\n      <td>1103341116</td>\n      <td>2015-12-21T00:00:00</td>\n      <td>1251.0</td>\n      <td>NaN</td>\n      <td>NaN</td>\n      <td>CA</td>\n      <td>200304.0</td>\n      <td>NaN</td>\n      <td>NaN</td>\n      <td>PA</td>\n      <td>GY</td>\n      <td>13147 WELBY WAY</td>\n      <td>01521</td>\n      <td>1.0</td>\n      <td>4000A1</td>\n      <td>NO EVIDENCE OF REG</td>\n      <td>50.0</td>\n      <td>99999.0</td>\n      <td>99999.0</td>\n    </tr>\n    <tr>\n      <th>1</th>\n      <td>1103700150</td>\n      <td>2015-12-21T00:00:00</td>\n      <td>1435.0</td>\n      <td>NaN</td>\n      <td>NaN</td>\n      <td>CA</td>\n      <td>201512.0</td>\n      <td>NaN</td>\n      <td>NaN</td>\n      <td>VN</td>\n      <td>WH</td>\n      <td>525 S MAIN ST</td>\n      <td>1C51</td>\n      <td>1.0</td>\n      <td>4000A1</td>\n      <td>NO EVIDENCE OF REG</td>\n      <td>50.0</td>\n      <td>99999.0</td>\n      <td>99999.0</td>\n    </tr>\n    <tr>\n      <th>2</th>\n      <td>1104803000</td>\n      <td>2015-12-21T00:00:00</td>\n      <td>2055.0</td>\n      <td>NaN</td>\n      <td>NaN</td>\n      <td>CA</td>\n      <td>201503.0</td>\n      <td>NaN</td>\n      <td>NaN</td>\n      <td>PA</td>\n      <td>BK</td>\n      <td>200 WORLD WAY</td>\n      <td>2R2</td>\n      <td>2.0</td>\n      <td>8939</td>\n      <td>WHITE CURB</td>\n      <td>58.0</td>\n      <td>6439997.9</td>\n      <td>1802686.4</td>\n    </tr>\n    <tr>\n      <th>3</th>\n      <td>1104820732</td>\n      <td>2015-12-26T00:00:00</td>\n      <td>1515.0</td>\n      <td>NaN</td>\n      <td>NaN</td>\n      <td>CA</td>\n      <td>NaN</td>\n      <td>NaN</td>\n      <td>NaN</td>\n      <td>PA</td>\n      <td>WH</td>\n      <td>100 WORLD WAY</td>\n      <td>2F11</td>\n      <td>2.0</td>\n      <td>000</td>\n      <td>17104h</td>\n      <td>NaN</td>\n      <td>6440041.1</td>\n      <td>1802686.2</td>\n    </tr>\n    <tr>\n      <th>5</th>\n      <td>1106226590</td>\n      <td>2015-09-15T00:00:00</td>\n      <td>19.0</td>\n      <td>NaN</td>\n      <td>NaN</td>\n      <td>CA</td>\n      <td>201507.0</td>\n      <td>NaN</td>\n      <td>NaN</td>\n      <td>VN</td>\n      <td>GY</td>\n      <td>SAN PEDRO S/O BOYD</td>\n      <td>1A35W</td>\n      <td>1.0</td>\n      <td>4000A1</td>\n      <td>NO EVIDENCE OF REG</td>\n      <td>50.0</td>\n      <td>99999.0</td>\n      <td>99999.0</td>\n    </tr>\n  </tbody>\n</table>\n</div>", 
                        "text/plain": "  Ticket number           Issue Date  Issue time Meter Id  Marked Time  \\\n0    1103341116  2015-12-21T00:00:00      1251.0      NaN          NaN   \n1    1103700150  2015-12-21T00:00:00      1435.0      NaN          NaN   \n2    1104803000  2015-12-21T00:00:00      2055.0      NaN          NaN   \n3    1104820732  2015-12-26T00:00:00      1515.0      NaN          NaN   \n5    1106226590  2015-09-15T00:00:00        19.0      NaN          NaN   \n\n  RP State Plate  Plate Expiry Date  VIN Make Body Style Color  \\\n0             CA           200304.0  NaN  NaN         PA    GY   \n1             CA           201512.0  NaN  NaN         VN    WH   \n2             CA           201503.0  NaN  NaN         PA    BK   \n3             CA                NaN  NaN  NaN         PA    WH   \n5             CA           201507.0  NaN  NaN         VN    GY   \n\n             Location  Route  Agency Violation code Violation Description  \\\n0     13147 WELBY WAY  01521     1.0         4000A1    NO EVIDENCE OF REG   \n1       525 S MAIN ST   1C51     1.0         4000A1    NO EVIDENCE OF REG   \n2       200 WORLD WAY    2R2     2.0           8939            WHITE CURB   \n3       100 WORLD WAY   2F11     2.0            000                17104h   \n5  SAN PEDRO S/O BOYD  1A35W     1.0         4000A1    NO EVIDENCE OF REG   \n\n   Fine amount   Latitude  Longitude  \n0         50.0    99999.0    99999.0  \n1         50.0    99999.0    99999.0  \n2         58.0  6439997.9  1802686.4  \n3          NaN  6440041.1  1802686.2  \n5         50.0    99999.0    99999.0  "
                    }, 
                    "execution_count": 26, 
                    "metadata": {}
                }
            ], 
            "execution_count": 26
        }, 
        {
            "source": "test_set = test_set[['Issue time', 'Plate Expiry Date', 'Agency', 'Fine amount', 'Latitude', 'Longitude']].dropna().head(30)", 
            "cell_type": "code", 
            "metadata": {}, 
            "outputs": [], 
            "execution_count": 27
        }, 
        {
            "source": "test_set.head(30)", 
            "cell_type": "code", 
            "metadata": {}, 
            "outputs": [
                {
                    "output_type": "execute_result", 
                    "data": {
                        "text/html": "<div>\n<style scoped>\n    .dataframe tbody tr th:only-of-type {\n        vertical-align: middle;\n    }\n\n    .dataframe tbody tr th {\n        vertical-align: top;\n    }\n\n    .dataframe thead th {\n        text-align: right;\n    }\n</style>\n<table border=\"1\" class=\"dataframe\">\n  <thead>\n    <tr style=\"text-align: right;\">\n      <th></th>\n      <th>Issue time</th>\n      <th>Plate Expiry Date</th>\n      <th>Agency</th>\n      <th>Fine amount</th>\n      <th>Latitude</th>\n      <th>Longitude</th>\n    </tr>\n  </thead>\n  <tbody>\n    <tr>\n      <th>0</th>\n      <td>1251.0</td>\n      <td>200304.0</td>\n      <td>1.0</td>\n      <td>50.0</td>\n      <td>99999.0</td>\n      <td>99999.0</td>\n    </tr>\n    <tr>\n      <th>1</th>\n      <td>1435.0</td>\n      <td>201512.0</td>\n      <td>1.0</td>\n      <td>50.0</td>\n      <td>99999.0</td>\n      <td>99999.0</td>\n    </tr>\n    <tr>\n      <th>2</th>\n      <td>2055.0</td>\n      <td>201503.0</td>\n      <td>2.0</td>\n      <td>58.0</td>\n      <td>6439997.9</td>\n      <td>1802686.4</td>\n    </tr>\n    <tr>\n      <th>5</th>\n      <td>19.0</td>\n      <td>201507.0</td>\n      <td>1.0</td>\n      <td>50.0</td>\n      <td>99999.0</td>\n      <td>99999.0</td>\n    </tr>\n    <tr>\n      <th>7</th>\n      <td>1710.0</td>\n      <td>201602.0</td>\n      <td>1.0</td>\n      <td>163.0</td>\n      <td>99999.0</td>\n      <td>99999.0</td>\n    </tr>\n    <tr>\n      <th>8</th>\n      <td>945.0</td>\n      <td>201605.0</td>\n      <td>1.0</td>\n      <td>93.0</td>\n      <td>99999.0</td>\n      <td>99999.0</td>\n    </tr>\n    <tr>\n      <th>9</th>\n      <td>1100.0</td>\n      <td>201701.0</td>\n      <td>1.0</td>\n      <td>93.0</td>\n      <td>99999.0</td>\n      <td>99999.0</td>\n    </tr>\n    <tr>\n      <th>12</th>\n      <td>1110.0</td>\n      <td>201511.0</td>\n      <td>1.0</td>\n      <td>50.0</td>\n      <td>99999.0</td>\n      <td>99999.0</td>\n    </tr>\n    <tr>\n      <th>13</th>\n      <td>825.0</td>\n      <td>201607.0</td>\n      <td>1.0</td>\n      <td>93.0</td>\n      <td>99999.0</td>\n      <td>99999.0</td>\n    </tr>\n    <tr>\n      <th>15</th>\n      <td>1200.0</td>\n      <td>201602.0</td>\n      <td>54.0</td>\n      <td>68.0</td>\n      <td>99999.0</td>\n      <td>99999.0</td>\n    </tr>\n    <tr>\n      <th>16</th>\n      <td>1400.0</td>\n      <td>201611.0</td>\n      <td>54.0</td>\n      <td>68.0</td>\n      <td>99999.0</td>\n      <td>99999.0</td>\n    </tr>\n    <tr>\n      <th>17</th>\n      <td>2120.0</td>\n      <td>201502.0</td>\n      <td>1.0</td>\n      <td>50.0</td>\n      <td>99999.0</td>\n      <td>99999.0</td>\n    </tr>\n    <tr>\n      <th>20</th>\n      <td>1105.0</td>\n      <td>201611.0</td>\n      <td>1.0</td>\n      <td>73.0</td>\n      <td>99999.0</td>\n      <td>99999.0</td>\n    </tr>\n    <tr>\n      <th>23</th>\n      <td>1900.0</td>\n      <td>201511.0</td>\n      <td>1.0</td>\n      <td>50.0</td>\n      <td>99999.0</td>\n      <td>99999.0</td>\n    </tr>\n    <tr>\n      <th>24</th>\n      <td>140.0</td>\n      <td>201603.0</td>\n      <td>1.0</td>\n      <td>25.0</td>\n      <td>99999.0</td>\n      <td>99999.0</td>\n    </tr>\n    <tr>\n      <th>26</th>\n      <td>205.0</td>\n      <td>201607.0</td>\n      <td>1.0</td>\n      <td>25.0</td>\n      <td>99999.0</td>\n      <td>99999.0</td>\n    </tr>\n    <tr>\n      <th>27</th>\n      <td>200.0</td>\n      <td>201511.0</td>\n      <td>1.0</td>\n      <td>25.0</td>\n      <td>99999.0</td>\n      <td>99999.0</td>\n    </tr>\n    <tr>\n      <th>28</th>\n      <td>225.0</td>\n      <td>201512.0</td>\n      <td>1.0</td>\n      <td>25.0</td>\n      <td>99999.0</td>\n      <td>99999.0</td>\n    </tr>\n    <tr>\n      <th>33</th>\n      <td>1041.0</td>\n      <td>201610.0</td>\n      <td>1.0</td>\n      <td>93.0</td>\n      <td>6451860.6</td>\n      <td>1890192.1</td>\n    </tr>\n    <tr>\n      <th>34</th>\n      <td>1058.0</td>\n      <td>201506.0</td>\n      <td>1.0</td>\n      <td>50.0</td>\n      <td>99999.0</td>\n      <td>99999.0</td>\n    </tr>\n    <tr>\n      <th>36</th>\n      <td>1300.0</td>\n      <td>201511.0</td>\n      <td>1.0</td>\n      <td>50.0</td>\n      <td>99999.0</td>\n      <td>99999.0</td>\n    </tr>\n    <tr>\n      <th>39</th>\n      <td>1951.0</td>\n      <td>201604.0</td>\n      <td>54.0</td>\n      <td>63.0</td>\n      <td>99999.0</td>\n      <td>99999.0</td>\n    </tr>\n    <tr>\n      <th>40</th>\n      <td>1953.0</td>\n      <td>201603.0</td>\n      <td>54.0</td>\n      <td>63.0</td>\n      <td>99999.0</td>\n      <td>99999.0</td>\n    </tr>\n    <tr>\n      <th>42</th>\n      <td>1550.0</td>\n      <td>201608.0</td>\n      <td>1.0</td>\n      <td>363.0</td>\n      <td>6429130.8</td>\n      <td>1880027.3</td>\n    </tr>\n    <tr>\n      <th>44</th>\n      <td>1815.0</td>\n      <td>201603.0</td>\n      <td>36.0</td>\n      <td>68.0</td>\n      <td>6467477.1</td>\n      <td>1868721.0</td>\n    </tr>\n    <tr>\n      <th>45</th>\n      <td>2140.0</td>\n      <td>201512.0</td>\n      <td>36.0</td>\n      <td>68.0</td>\n      <td>6490251.3</td>\n      <td>1851321.5</td>\n    </tr>\n    <tr>\n      <th>46</th>\n      <td>2240.0</td>\n      <td>201507.0</td>\n      <td>36.0</td>\n      <td>68.0</td>\n      <td>6475830.9</td>\n      <td>1853025.9</td>\n    </tr>\n    <tr>\n      <th>48</th>\n      <td>135.0</td>\n      <td>201510.0</td>\n      <td>1.0</td>\n      <td>50.0</td>\n      <td>99999.0</td>\n      <td>99999.0</td>\n    </tr>\n    <tr>\n      <th>49</th>\n      <td>310.0</td>\n      <td>201511.0</td>\n      <td>1.0</td>\n      <td>50.0</td>\n      <td>99999.0</td>\n      <td>99999.0</td>\n    </tr>\n    <tr>\n      <th>51</th>\n      <td>1435.0</td>\n      <td>201511.0</td>\n      <td>1.0</td>\n      <td>50.0</td>\n      <td>99999.0</td>\n      <td>99999.0</td>\n    </tr>\n  </tbody>\n</table>\n</div>", 
                        "text/plain": "    Issue time  Plate Expiry Date  Agency  Fine amount   Latitude  Longitude\n0       1251.0           200304.0     1.0         50.0    99999.0    99999.0\n1       1435.0           201512.0     1.0         50.0    99999.0    99999.0\n2       2055.0           201503.0     2.0         58.0  6439997.9  1802686.4\n5         19.0           201507.0     1.0         50.0    99999.0    99999.0\n7       1710.0           201602.0     1.0        163.0    99999.0    99999.0\n8        945.0           201605.0     1.0         93.0    99999.0    99999.0\n9       1100.0           201701.0     1.0         93.0    99999.0    99999.0\n12      1110.0           201511.0     1.0         50.0    99999.0    99999.0\n13       825.0           201607.0     1.0         93.0    99999.0    99999.0\n15      1200.0           201602.0    54.0         68.0    99999.0    99999.0\n16      1400.0           201611.0    54.0         68.0    99999.0    99999.0\n17      2120.0           201502.0     1.0         50.0    99999.0    99999.0\n20      1105.0           201611.0     1.0         73.0    99999.0    99999.0\n23      1900.0           201511.0     1.0         50.0    99999.0    99999.0\n24       140.0           201603.0     1.0         25.0    99999.0    99999.0\n26       205.0           201607.0     1.0         25.0    99999.0    99999.0\n27       200.0           201511.0     1.0         25.0    99999.0    99999.0\n28       225.0           201512.0     1.0         25.0    99999.0    99999.0\n33      1041.0           201610.0     1.0         93.0  6451860.6  1890192.1\n34      1058.0           201506.0     1.0         50.0    99999.0    99999.0\n36      1300.0           201511.0     1.0         50.0    99999.0    99999.0\n39      1951.0           201604.0    54.0         63.0    99999.0    99999.0\n40      1953.0           201603.0    54.0         63.0    99999.0    99999.0\n42      1550.0           201608.0     1.0        363.0  6429130.8  1880027.3\n44      1815.0           201603.0    36.0         68.0  6467477.1  1868721.0\n45      2140.0           201512.0    36.0         68.0  6490251.3  1851321.5\n46      2240.0           201507.0    36.0         68.0  6475830.9  1853025.9\n48       135.0           201510.0     1.0         50.0    99999.0    99999.0\n49       310.0           201511.0     1.0         50.0    99999.0    99999.0\n51      1435.0           201511.0     1.0         50.0    99999.0    99999.0"
                    }, 
                    "execution_count": 28, 
                    "metadata": {}
                }
            ], 
            "execution_count": 28
        }, 
        {
            "source": "xtest = np.asarray(test_set[['Issue time', 'Plate Expiry Date', 'Agency', 'Fine amount', 'Latitude', 'Longitude']])", 
            "cell_type": "code", 
            "metadata": {}, 
            "outputs": [], 
            "execution_count": 29
        }, 
        {
            "source": "<h3> These two cells will need to be implemented in POST function of server </h3>\nEverything above will be run as server setup and the next two cells will be used when a post request is made. Will also need to implement json parsing before transforming data\noutput of yhat_prob for each row is a list with two items, first is probability vehicle is in the top 25 and the second is the probability the vehicleis not in the top 25 makes\ntogether these two values should add up to 1", 
            "cell_type": "markdown", 
            "metadata": {}
        }, 
        {
            "source": "xtest = scaler.transform(xtest)\nxtest[0:3]", 
            "cell_type": "code", 
            "metadata": {}, 
            "outputs": [
                {
                    "output_type": "execute_result", 
                    "data": {
                        "text/plain": "array([[ 0.09938047,  0.25640905, -5.45105791, -0.61989579, -1.74287773,\n        -0.67727352],\n       [ 0.48904578,  0.27929558, -5.45105791, -0.61989579, -1.74287773,\n        -0.67727352],\n       [ 1.80204843,  0.27912507, -5.34413801, -0.37101759,  0.30454841,\n         0.09897832]])"
                    }, 
                    "execution_count": 30, 
                    "metadata": {}
                }
            ], 
            "execution_count": 30
        }, 
        {
            "source": "yhat_prob = LR.predict_proba(xtest)\nyhat_prob", 
            "cell_type": "code", 
            "metadata": {}, 
            "outputs": [
                {
                    "output_type": "execute_result", 
                    "data": {
                        "text/plain": "array([[0.14057951, 0.85942049],\n       [0.14116759, 0.85883241],\n       [0.14112763, 0.85887237],\n       [0.13305813, 0.86694187],\n       [0.14480133, 0.85519867],\n       [0.13903393, 0.86096607],\n       [0.13989619, 0.86010381],\n       [0.13927048, 0.86072952],\n       [0.13833893, 0.86166107],\n       [0.0778717 , 0.9221283 ],\n       [0.07856789, 0.92143211],\n       [0.14524187, 0.85475813],\n       [0.13960755, 0.86039245],\n       [0.14392042, 0.85607958],\n       [0.13327248, 0.86672752],\n       [0.13363496, 0.86636504],\n       [0.13364421, 0.86635579],\n       [0.13378407, 0.86621593],\n       [0.1289661 , 0.8710339 ],\n       [0.13897088, 0.86102912],\n       [0.14037719, 0.85962281],\n       [0.08046884, 0.91953116],\n       [0.08047626, 0.91952374],\n       [0.13679469, 0.86320531],\n       [0.09210393, 0.90789607],\n       [0.09516896, 0.90483104],\n       [0.09517984, 0.90482016],\n       [0.13370634, 0.86629366],\n       [0.13469068, 0.86530932],\n       [0.141168  , 0.858832  ]])"
                    }, 
                    "execution_count": 31, 
                    "metadata": {}
                }
            ], 
            "execution_count": 31
        }, 
        {
            "source": "<h1> Assesment #2 </h1>\nTop 25 Makes from the data (calculated above in Assessment #1)", 
            "cell_type": "markdown", 
            "metadata": {}
        }, 
        {
            "source": "top25 = list(top25.index)\ntop25", 
            "cell_type": "code", 
            "metadata": {}, 
            "outputs": [
                {
                    "output_type": "execute_result", 
                    "data": {
                        "text/plain": "['TOYT',\n 'HOND',\n 'FORD',\n 'NISS',\n 'CHEV',\n 'BMW',\n 'MERZ',\n 'VOLK',\n 'HYUN',\n 'DODG',\n 'LEXS',\n 'KIA',\n 'JEEP',\n 'AUDI',\n 'MAZD',\n 'OTHR',\n 'GMC',\n 'CHRY',\n 'INFI',\n 'ACUR',\n 'SUBA',\n 'VOLV',\n 'TOYO',\n 'MITS',\n 'CADI']"
                    }, 
                    "execution_count": 34, 
                    "metadata": {}
                }
            ], 
            "execution_count": 34
        }, 
        {
            "source": "<h3>Top color for each of the top 25 makes</h3>", 
            "cell_type": "markdown", 
            "metadata": {}
        }, 
        {
            "source": "for make in top25:\n    colors = make_df[make_df['Make'] == make]['Color'].value_counts()\n    print('Make:', make, 'top color:', colors.index[0])", 
            "cell_type": "code", 
            "metadata": {}, 
            "outputs": [
                {
                    "output_type": "stream", 
                    "name": "stdout", 
                    "text": "Make: TOYT top color: GY\nMake: HOND top color: GY\nMake: FORD top color: WT\nMake: NISS top color: GY\nMake: CHEV top color: WT\nMake: BMW top color: BK\nMake: MERZ top color: BK\nMake: VOLK top color: BK\nMake: HYUN top color: GY\nMake: DODG top color: WT\nMake: LEXS top color: BK\nMake: KIA top color: BK\nMake: JEEP top color: BK\nMake: AUDI top color: BK\nMake: MAZD top color: GY\nMake: OTHR top color: BN\nMake: GMC top color: WT\nMake: CHRY top color: GY\nMake: INFI top color: BK\nMake: ACUR top color: BK\nMake: SUBA top color: GY\nMake: VOLV top color: BK\nMake: TOYO top color: GY\nMake: MITS top color: WT\nMake: CADI top color: BK\n"
                }
            ], 
            "execution_count": 37
        }, 
        {
            "source": "time_df = make_df[['Make', 'Issue Date', 'Issue time']]\ntime_df['Issue Date'] = pd.to_datetime(time_df['Issue Date'])\ntime_df = time_df.sort_values(by=['Issue Date', 'Issue time'], inplace = True)", 
            "cell_type": "code", 
            "metadata": {
                "scrolled": false
            }, 
            "outputs": [
                {
                    "output_type": "stream", 
                    "name": "stderr", 
                    "text": "/opt/conda/envs/Python36/lib/python3.6/site-packages/ipykernel/__main__.py:2: SettingWithCopyWarning: \nA value is trying to be set on a copy of a slice from a DataFrame.\nTry using .loc[row_indexer,col_indexer] = value instead\n\nSee the caveats in the documentation: http://pandas.pydata.org/pandas-docs/stable/indexing.html#indexing-view-versus-copy\n  from ipykernel import kernelapp as app\n/opt/conda/envs/Python36/lib/python3.6/site-packages/ipykernel/__main__.py:3: SettingWithCopyWarning: \nA value is trying to be set on a copy of a slice from a DataFrame\n\nSee the caveats in the documentation: http://pandas.pydata.org/pandas-docs/stable/indexing.html#indexing-view-versus-copy\n  app.launch_new_instance()\n"
                }
            ], 
            "execution_count": 53
        }, 
        {
            "source": "<h3>First issued ticket for each of the top 25 makes</h3>", 
            "cell_type": "markdown", 
            "metadata": {}
        }, 
        {
            "source": "for make in top25:\n    date = str(time_df[time_df['Make'] == make]['Issue Date'].iloc[0])\n    time = time_df[time_df['Make'] == make]['Issue time'].iloc[0]\n    print('Make:', make, 'Date: ', date[:-9], 'Time: ', time)\n", 
            "cell_type": "code", 
            "metadata": {}, 
            "outputs": [
                {
                    "output_type": "stream", 
                    "name": "stdout", 
                    "text": "Make: TOYT Date:  2014-10-30 Time:  800.0\nMake: HOND Date:  2011-03-06 Time:  404.0\nMake: FORD Date:  2010-01-09 Time:  15.0\nMake: NISS Date:  2012-06-09 Time:  215.0\nMake: CHEV Date:  2010-06-25 Time:  343.0\nMake: BMW Date:  2010-10-09 Time:  1415.0\nMake: MERZ Date:  2010-10-20 Time:  1935.0\nMake: VOLK Date:  2011-11-07 Time:  1645.0\nMake: HYUN Date:  2011-12-10 Time:  1210.0\nMake: DODG Date:  2011-09-10 Time:  1149.0\nMake: LEXS Date:  2014-10-30 Time:  831.0\nMake: KIA Date:  2010-06-10 Time:  15.0\nMake: JEEP Date:  2010-10-05 Time:  1055.0\nMake: AUDI Date:  2012-06-04 Time:  2020.0\nMake: MAZD Date:  2014-02-18 Time:  705.0\nMake: OTHR Date:  2014-10-30 Time:  1259.0\nMake: GMC Date:  2012-03-12 Time:  1430.0\nMake: CHRY Date:  2011-04-12 Time:  931.0\nMake: INFI Date:  2014-01-03 Time:  1025.0\nMake: ACUR Date:  2010-06-09 Time:  510.0\nMake: SUBA Date:  2012-07-03 Time:  1205.0\nMake: VOLV Date:  2012-10-06 Time:  2130.0\nMake: TOYO Date:  2010-10-18 Time:  2220.0\nMake: MITS Date:  2014-08-10 Time:  1030.0\nMake: CADI Date:  2013-03-25 Time:  1359.0\n"
                }
            ], 
            "execution_count": 52
        }, 
        {
            "source": "", 
            "cell_type": "code", 
            "metadata": {}, 
            "outputs": [], 
            "execution_count": null
        }
    ], 
    "metadata": {
        "kernelspec": {
            "display_name": "Python 3.6", 
            "name": "python3", 
            "language": "python"
        }, 
        "language_info": {
            "mimetype": "text/x-python", 
            "nbconvert_exporter": "python", 
            "version": "3.6.8", 
            "name": "python", 
            "pygments_lexer": "ipython3", 
            "file_extension": ".py", 
            "codemirror_mode": {
                "version": 3, 
                "name": "ipython"
            }
        }
    }, 
    "nbformat": 4
}